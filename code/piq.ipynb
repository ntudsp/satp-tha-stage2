{
 "cells": [
  {
   "cell_type": "code",
   "execution_count": 1,
   "id": "8d2a37d1-397a-4993-898b-e8b5f5bfe138",
   "metadata": {},
   "outputs": [],
   "source": [
    "%load_ext autoreload\n",
    "%autoreload 2"
   ]
  },
  {
   "cell_type": "code",
   "execution_count": 10,
   "id": "6c4ef97e-4cd1-4bbf-8962-1eb00cdb6996",
   "metadata": {},
   "outputs": [],
   "source": [
    "import os, shutil\n",
    "\n",
    "import warnings\n",
    "warnings.simplefilter(action='ignore', category=FutureWarning)\n",
    "\n",
    "import glob\n",
    "\n",
    "import pandas as pd\n",
    "import numpy as np\n",
    "\n",
    "import seaborn as sns\n",
    "from matplotlib import pyplot as plt\n",
    "\n",
    "\n",
    "from utils import *"
   ]
  },
  {
   "cell_type": "code",
   "execution_count": 11,
   "id": "fa20de80-ee47-4f2f-b9c1-15b64c5cac74",
   "metadata": {},
   "outputs": [],
   "source": [
    "HOME = os.getcwd()\n",
    "DATA = os.path.join(HOME, '..', 'data')\n",
    "\n",
    "df = pd.read_excel(os.path.join(DATA, 'paq', 'paq_240123.xlsx'))\n",
    "\n",
    "failed_hearing = [7, 27]\n",
    "\n",
    "df = df[~df['Participant ID'].isin(failed_hearing)]"
   ]
  },
  {
   "cell_type": "code",
   "execution_count": 12,
   "id": "a37ab8d5-8f79-4fe9-89a5-1dc2ac61d39a",
   "metadata": {},
   "outputs": [
    {
     "data": {
      "text/plain": [
       "25"
      ]
     },
     "execution_count": 12,
     "metadata": {},
     "output_type": "execute_result"
    }
   ],
   "source": [
    "len(df)"
   ]
  },
  {
   "cell_type": "code",
   "execution_count": 13,
   "id": "f293e9b1-02ed-4dcc-8487-ccef3111986e",
   "metadata": {},
   "outputs": [],
   "source": [
    "q_age = 'What is your age?'\n",
    "q_gender ='What is your gender?'\n",
    "\n",
    "df = df.rename(columns={q_age: 'age', q_gender: 'gender'})"
   ]
  },
  {
   "cell_type": "code",
   "execution_count": 14,
   "id": "f5d154e4-20c5-4591-bae4-31b815fc5f03",
   "metadata": {},
   "outputs": [
    {
     "data": {
      "text/plain": [
       "count    25.00000\n",
       "mean     28.44000\n",
       "std       9.57897\n",
       "min      18.00000\n",
       "25%      21.00000\n",
       "50%      27.00000\n",
       "75%      33.00000\n",
       "max      51.00000\n",
       "Name: age, dtype: float64"
      ]
     },
     "execution_count": 14,
     "metadata": {},
     "output_type": "execute_result"
    }
   ],
   "source": [
    "age_distr = df['age'].describe()\n",
    "age_distr"
   ]
  },
  {
   "cell_type": "code",
   "execution_count": 17,
   "id": "0efc935a-c350-42e8-bfd4-7aa22b0f69c4",
   "metadata": {},
   "outputs": [
    {
     "data": {
      "text/html": [
       "<div>\n",
       "<style scoped>\n",
       "    .dataframe tbody tr th:only-of-type {\n",
       "        vertical-align: middle;\n",
       "    }\n",
       "\n",
       "    .dataframe tbody tr th {\n",
       "        vertical-align: top;\n",
       "    }\n",
       "\n",
       "    .dataframe thead th {\n",
       "        text-align: right;\n",
       "    }\n",
       "</style>\n",
       "<table border=\"1\" class=\"dataframe\">\n",
       "  <thead>\n",
       "    <tr style=\"text-align: right;\">\n",
       "      <th></th>\n",
       "      <th>count</th>\n",
       "      <th>mean</th>\n",
       "      <th>std</th>\n",
       "      <th>min</th>\n",
       "      <th>25%</th>\n",
       "      <th>50%</th>\n",
       "      <th>75%</th>\n",
       "      <th>max</th>\n",
       "    </tr>\n",
       "    <tr>\n",
       "      <th>gender</th>\n",
       "      <th></th>\n",
       "      <th></th>\n",
       "      <th></th>\n",
       "      <th></th>\n",
       "      <th></th>\n",
       "      <th></th>\n",
       "      <th></th>\n",
       "      <th></th>\n",
       "    </tr>\n",
       "  </thead>\n",
       "  <tbody>\n",
       "    <tr>\n",
       "      <th>Female</th>\n",
       "      <td>12.0</td>\n",
       "      <td>30.833333</td>\n",
       "      <td>10.034788</td>\n",
       "      <td>18.0</td>\n",
       "      <td>24.0</td>\n",
       "      <td>27.5</td>\n",
       "      <td>36.5</td>\n",
       "      <td>51.0</td>\n",
       "    </tr>\n",
       "    <tr>\n",
       "      <th>Male</th>\n",
       "      <td>13.0</td>\n",
       "      <td>26.230769</td>\n",
       "      <td>8.955016</td>\n",
       "      <td>18.0</td>\n",
       "      <td>19.0</td>\n",
       "      <td>25.0</td>\n",
       "      <td>29.0</td>\n",
       "      <td>50.0</td>\n",
       "    </tr>\n",
       "  </tbody>\n",
       "</table>\n",
       "</div>"
      ],
      "text/plain": [
       "        count       mean        std   min   25%   50%   75%   max\n",
       "gender                                                           \n",
       "Female   12.0  30.833333  10.034788  18.0  24.0  27.5  36.5  51.0\n",
       "Male     13.0  26.230769   8.955016  18.0  19.0  25.0  29.0  50.0"
      ]
     },
     "execution_count": 17,
     "metadata": {},
     "output_type": "execute_result"
    }
   ],
   "source": [
    "df.groupby('gender')['age'].describe()"
   ]
  }
 ],
 "metadata": {
  "kernelspec": {
   "display_name": "Python 3 (ipykernel)",
   "language": "python",
   "name": "python3"
  },
  "language_info": {
   "codemirror_mode": {
    "name": "ipython",
    "version": 3
   },
   "file_extension": ".py",
   "mimetype": "text/x-python",
   "name": "python",
   "nbconvert_exporter": "python",
   "pygments_lexer": "ipython3",
   "version": "3.8.15"
  }
 },
 "nbformat": 4,
 "nbformat_minor": 5
}
