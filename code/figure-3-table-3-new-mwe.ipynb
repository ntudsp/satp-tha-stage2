{
 "cells": [
  {
   "cell_type": "code",
   "execution_count": 9,
   "id": "389db2e5-936e-4440-b281-a68255c51e41",
   "metadata": {},
   "outputs": [
    {
     "name": "stdout",
     "output_type": "stream",
     "text": [
      "The autoreload extension is already loaded. To reload it, use:\n",
      "  %reload_ext autoreload\n"
     ]
    }
   ],
   "source": [
    "%load_ext autoreload\n",
    "%autoreload 2"
   ]
  },
  {
   "cell_type": "code",
   "execution_count": 10,
   "id": "2b27723e-0fb6-459b-bed8-3457499907bf",
   "metadata": {},
   "outputs": [],
   "source": [
    "import os, shutil, glob\n",
    "\n",
    "import warnings\n",
    "warnings.simplefilter(action='ignore')\n",
    "\n",
    "import pingouin as pg\n",
    "import pandas as pd\n",
    "import numpy as np\n",
    "\n",
    "import seaborn as sns\n",
    "sns.set_theme('paper', 'whitegrid')\n",
    "\n",
    "from matplotlib import pyplot as plt\n",
    "from matplotlib.ticker import AutoMinorLocator\n",
    "\n",
    "from argparse import Namespace\n",
    "from utils import load_data, PAQ_CCW"
   ]
  },
  {
   "cell_type": "code",
   "execution_count": 11,
   "id": "ffe12c4f-8195-466b-b675-1622c3593322",
   "metadata": {},
   "outputs": [],
   "source": [
    "HOME = os.getcwd()\n",
    "DATA = os.path.join(HOME, '..', 'data')\n",
    "calib_mode = 'hats'\n",
    "\n",
    "df = load_data(DATA, calib_mode)"
   ]
  },
  {
   "cell_type": "code",
   "execution_count": 12,
   "id": "7137a427-03da-4e91-a4be-e345e7ccfb8b",
   "metadata": {},
   "outputs": [],
   "source": [
    "p1df = pd.read_csv('../data/p1tha.csv').set_index('PAQ')"
   ]
  },
  {
   "cell_type": "markdown",
   "id": "93ebb033-d84d-4376-8c53-dae662023144",
   "metadata": {
    "tags": []
   },
   "source": [
    "## Reliability Check"
   ]
  },
  {
   "cell_type": "code",
   "execution_count": 28,
   "id": "98a9dec1-1b83-4a6f-ba0f-8e5253e5949a",
   "metadata": {},
   "outputs": [
    {
     "name": "stdout",
     "output_type": "stream",
     "text": [
      "thaPl & 0.571 & [0.440, 0.720] & 42.341 & $<$0.001 & 0.971 & [0.950, \\replaced{0.980}{0.720}] & 42.341 & $<$0.001\\\\ \n",
      "thaVi & 0.590 & [0.460, 0.730] & 41.750 & $<$0.001 & 0.973 & [0.960, \\replaced{0.990}{0.730}] & 41.750 & $<$0.001\\\\ \n",
      "thaEv & 0.252 & [0.160, 0.400] & 11.425 & $<$0.001 & 0.894 & [0.830, \\replaced{0.940}{0.400}] & 11.425 & $<$0.001\\\\ \n",
      "thaCh & 0.571 & [0.440, 0.720] & 44.172 & $<$0.001 & 0.971 & [0.950, \\replaced{0.980}{0.720}] & 44.172 & $<$0.001\\\\ \n",
      "thaAn & 0.547 & [0.420, 0.700] & 39.817 & $<$0.001 & 0.968 & [0.950, \\replaced{0.980}{0.700}] & 39.817 & $<$0.001\\\\ \n",
      "thaMo & 0.412 & [0.290, 0.580] & 20.235 & $<$0.001 & 0.946 & [0.910, \\replaced{0.970}{0.580}] & 20.235 & $<$0.001\\\\ \n",
      "thaUn & 0.256 & [0.160, 0.410] & 11.186 & $<$0.001 & 0.896 & [0.830, \\replaced{0.940}{0.410}] & 11.186 & $<$0.001\\\\ \n",
      "thaCa & 0.593 & [0.460, 0.740] & 47.907 & $<$0.001 & 0.973 & [0.960, \\replaced{0.990}{0.740}] & 47.907 & $<$0.001\\\\\n"
     ]
    }
   ],
   "source": [
    "tab = []\n",
    "\n",
    "iccs = {}\n",
    "\n",
    "for p in PAQ_CCW:\n",
    "    \n",
    "    cols = []\n",
    "    alph, ci = pg.cronbach_alpha(df, subject='pid', items='stimulus_id', scores=p)\n",
    "    ic = pg.intraclass_corr(df, raters='pid', ratings=p, targets='stimulus_id').set_index('Type')\n",
    "    \n",
    "    cols += [\n",
    "        f\"tha{p.capitalize()}\",\n",
    "        # f\"{alph:.3f}\",\n",
    "        # f\"[{ci[0]:.3f}, {ci[1]:.3f}]\",\n",
    "        f\"{ic.loc['ICC2']['ICC']:.3f}\",\n",
    "        f\"[{ic.loc['ICC2']['CI95%'][0]:.3f}, {ic.loc['ICC2']['CI95%'][1]:.3f}]\",\n",
    "        f\"{ic.loc['ICC2']['F']:.3f}\",\n",
    "        f\"$<$0.001\",\n",
    "        f\"{ic.loc['ICC2k']['ICC']:.3f}\",\n",
    "        f\"[{ic.loc['ICC2k']['CI95%'][0]:.3f}, \\\\replaced{{{ic.loc['ICC2k']['CI95%'][1]:.3f}}}{{{ic.loc['ICC2']['CI95%'][1]:.3f}}}]\",\n",
    "        f\"{ic.loc['ICC2k']['F']:.3f}\",\n",
    "        f\"$<$0.001\",\n",
    "    ]\n",
    "    tab.append(\" & \".join(cols))\n",
    "    \n",
    "    iccs[p] = [ic.loc['ICC2']['ICC'], ic.loc['ICC2k']['ICC']]\n",
    "    \n",
    "print(\"\\\\\\\\ \\n\".join(tab) + \"\\\\\\\\\")"
   ]
  },
  {
   "cell_type": "code",
   "execution_count": 14,
   "id": "23e2dcab-2875-4e25-89c1-d747d09d5bb5",
   "metadata": {},
   "outputs": [],
   "source": [
    "for p, (icc2, icc2k) in iccs.items():\n",
    "    p1df.loc[p, 'ICC2'] = icc2\n",
    "    p1df.loc[p, 'ICC2k'] = icc2k"
   ]
  },
  {
   "cell_type": "code",
   "execution_count": 15,
   "id": "0969ea22-8425-4135-bbf2-54fa8008a3f0",
   "metadata": {},
   "outputs": [
    {
     "data": {
      "image/png": "[encoded data removed]",
      "text/plain": [
       "<Figure size 360x216 with 1 Axes>"
      ]
     },
     "metadata": {},
     "output_type": "display_data"
    }
   ],
   "source": [
    "global_fontsize = 14\n",
    "\n",
    "f, ax = plt.subplots(figsize=(5,3), tight_layout=True)\n",
    "\n",
    "sns.scatterplot(p1df, x='APPR',y='ICC2', marker='s', c='b', s=100, ax=ax, label='ICC(2,1)', legend=None) # s sets the marker size\n",
    "sns.scatterplot(p1df, x='APPR',y='ICC2k', marker='^', c='r', s=100, ax=ax, label='ICC(2,k)', legend=None)\n",
    "\n",
    "ax.figure.legend(loc='upper left', bbox_to_anchor=(0.220, 0.8), fontsize = global_fontsize)\n",
    "\n",
    "for p in ['ev', 'mo', 'un']:\n",
    "    ax.text(x=p1df.loc[p, 'APPR'] + 0.02, y=p1df.loc[p, 'ICC2'], s=f\"tha{p.capitalize()}\", ha='left', va='center', fontsize = global_fontsize)\n",
    "    ax.text(x=p1df.loc[p, 'APPR'] + 0.02, y=p1df.loc[p, 'ICC2k'] + (-1 * (p == 'un'))*0.02, s=f\"tha{p.capitalize()}\", ha='left', va='center', fontsize = global_fontsize)\n",
    "    \n",
    "ax.set_xlabel('APPR (Appropriateness of translation (Stage 1))', fontsize = global_fontsize)\n",
    "ax.set_ylabel('ICC value', fontsize = global_fontsize)\n",
    "ax.tick_params(labelsize = global_fontsize)\n",
    "plt.grid(which='major', color = '#A5A5A5')\n",
    "plt.grid(which='minor', color = '#E5E5E5')\n",
    "plt.minorticks_on()\n",
    "ax.grid(visible=True)\n",
    "\n",
    "plt.savefig('figs/appr_vs_icc.png', dpi=300)\n",
    "plt.show()"
   ]
  },
  {
   "cell_type": "markdown",
   "id": "6f7da810-54f3-48fe-9aae-0c1ad94cdd35",
   "metadata": {},
   "source": [
    "Expected output of the above block:\n",
    "\n",
    "<img src='figs/appr_vs_icc.png' width=400>"
   ]
  },
  {
   "cell_type": "code",
   "execution_count": null,
   "id": "d4fd5991-c850-4523-9ab6-533247c8c291",
   "metadata": {},
   "outputs": [],
   "source": []
  }
 ],
 "metadata": {
  "kernelspec": {
   "display_name": "Python 3 (ipykernel)",
   "language": "python",
   "name": "python3"
  },
  "language_info": {
   "codemirror_mode": {
    "name": "ipython",
    "version": 3
   },
   "file_extension": ".py",
   "mimetype": "text/x-python",
   "name": "python",
   "nbconvert_exporter": "python",
   "pygments_lexer": "ipython3",
   "version": "3.8.18"
  }
 },
 "nbformat": 4,
 "nbformat_minor": 5
}
