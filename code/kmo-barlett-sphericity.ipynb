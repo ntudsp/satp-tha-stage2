{
 "cells": [
  {
   "cell_type": "code",
   "execution_count": 10,
   "id": "e0654b33-bb92-4d8a-8bdd-1d2367950005",
   "metadata": {},
   "outputs": [
    {
     "name": "stdout",
     "output_type": "stream",
     "text": [
      "The autoreload extension is already loaded. To reload it, use:\n",
      "  %reload_ext autoreload\n"
     ]
    }
   ],
   "source": [
    "%load_ext autoreload\n",
    "%autoreload 2"
   ]
  },
  {
   "cell_type": "code",
   "execution_count": 11,
   "id": "eebd4e85-1f39-4587-9ace-0422b8003280",
   "metadata": {},
   "outputs": [],
   "source": [
    "import os, shutil\n",
    "\n",
    "import warnings\n",
    "warnings.simplefilter(action='ignore', category=FutureWarning)\n",
    "\n",
    "import glob\n",
    "\n",
    "import pandas as pd\n",
    "import numpy as np\n",
    "\n",
    "import seaborn as sns\n",
    "from matplotlib import pyplot as plt\n",
    "# from matplotlib.ticker import AutoMinorLocator\n",
    "# import matplotlib as mpl\n",
    "\n",
    "from factor_analyzer import FactorAnalyzer\n",
    "from factor_analyzer.factor_analyzer import calculate_bartlett_sphericity, calculate_kmo\n",
    "from copy import deepcopy\n",
    "\n",
    "from argparse import Namespace"
   ]
  },
  {
   "cell_type": "code",
   "execution_count": 12,
   "id": "5fb32337-8d06-4ac3-8f4f-d02408d39ce6",
   "metadata": {},
   "outputs": [],
   "source": [
    "from utils import *\n",
    "from pca import CustomPCA\n",
    "from fa import CustomFactorAnalysis as CustomFA"
   ]
  },
  {
   "cell_type": "code",
   "execution_count": 13,
   "id": "fdaf1d94-078a-41df-8dfc-6dcac58d4549",
   "metadata": {},
   "outputs": [],
   "source": [
    "HOME = os.getcwd()\n",
    "DATA = os.path.join(HOME, '..', 'data')\n",
    "calib_mode = 'hats'\n",
    "\n",
    "df = load_data(DATA, calib_mode)"
   ]
  },
  {
   "cell_type": "code",
   "execution_count": 14,
   "id": "7ec53df3-7024-424a-8e1c-0ed5865adbd7",
   "metadata": {},
   "outputs": [],
   "source": [
    "sns.set_theme('paper', 'whitegrid')"
   ]
  },
  {
   "cell_type": "code",
   "execution_count": 15,
   "id": "7c2f3651-c199-4fcd-8f99-ae899bd3ff06",
   "metadata": {},
   "outputs": [],
   "source": [
    "p1df = pd.read_csv('../data/p1tha.csv').set_index('PAQ')"
   ]
  },
  {
   "cell_type": "markdown",
   "id": "3cf9a039-f95e-454b-8e74-427c6c86acbb",
   "metadata": {},
   "source": [
    "# PCA (Bartlett's test of sphericity and KMO test)"
   ]
  },
  {
   "cell_type": "code",
   "execution_count": 16,
   "id": "49857d9b-2a12-42e3-b108-60499a1dea77",
   "metadata": {},
   "outputs": [],
   "source": [
    "def unitary_transform(pca, targets_proj):\n",
    "    rpca = deepcopy(pca)\n",
    "\n",
    "    A = rpca.components_[:2, :] @ targets_proj\n",
    "    B = np.eye(2, 2)  \n",
    "    M = B @ A.T\n",
    "    U, S, Vt = np.linalg.svd(M)\n",
    "\n",
    "    R = U@Vt\n",
    "\n",
    "    rpca.components_[:2, :] = R @ rpca.components_[:2, :]\n",
    "    \n",
    "    return rpca, R"
   ]
  },
  {
   "cell_type": "code",
   "execution_count": 17,
   "id": "2c7131b8-4d9c-4a9f-b9c8-d11b36e86543",
   "metadata": {},
   "outputs": [],
   "source": [
    "dfx = df.groupby('stimulus_id').mean()    \n",
    "pca_raw = CustomPCA(n_components=8, whiten=False, center=False)\n",
    "pca_mean = CustomPCA(n_components=8, whiten=False, center=False)\n",
    "\n",
    "pca_raw = pca_raw.fit(df[PAQ_CCW])\n",
    "pca_mean = pca_mean.fit(dfx[PAQ_CCW])\n",
    "\n",
    "rpca_raw, Rr = unitary_transform(pca_raw, iso_proj)\n",
    "rpca_mean, Rm = unitary_transform(pca_mean, iso_proj)\n",
    "\n",
    "for n, pca in [('ur', pca_raw), ('um', pca_mean), ('rr', rpca_raw), ('rm', rpca_mean)]:\n",
    "    pcm = pca.transform(dfx[PAQ_CCW])\n",
    "    pcr = pca.transform(df[PAQ_CCW])\n",
    "    for i in range(pca.n_components):\n",
    "        dfx[f'{n}{i+1}proj'] = pcm[:, i]\n",
    "        df[f'{n}{i+1}proj'] = pcr[:, i]"
   ]
  },
  {
   "cell_type": "markdown",
   "id": "c6291217-65a6-49e5-bda9-d3bf7df7267c",
   "metadata": {},
   "source": [
    "Note that we only use the results from the raw data, but we also do the same analyses on the mean data for reference as well."
   ]
  },
  {
   "cell_type": "code",
   "execution_count": 40,
   "id": "f6f1e567-dffc-416c-bcd2-36ac63733d98",
   "metadata": {},
   "outputs": [
    {
     "name": "stdout",
     "output_type": "stream",
     "text": [
      "Bartlett's test of sphericity: Statistic on raw data (n=675) = 4780.9290, p-val = 0.0000\n",
      "Bartlett's test of sphericity: Statistic on averaged data (n=27) = 414.1433, p-val = 0.0000\n"
     ]
    },
    {
     "name": "stderr",
     "output_type": "stream",
     "text": [
      "C:\\Users\\sntl\\anaconda3\\envs\\araus\\lib\\site-packages\\factor_analyzer\\utils.py:244: UserWarning: The inverse of the variance-covariance matrix was calculated using the Moore-Penrose generalized matrix inversion, due to its determinant being at or very close to zero.\n",
      "  warnings.warn(\n"
     ]
    }
   ],
   "source": [
    "statistic_raw, p_value_raw = calculate_bartlett_sphericity(df[PAQ_CCW])\n",
    "statistic_mean, p_value_mean = calculate_bartlett_sphericity(dfx[PAQ_CCW])\n",
    "kmo_per_variable_raw, kmo_total_raw = calculate_kmo(df[PAQ_CCW])\n",
    "kmo_per_variable_mean, kmo_total_mean = calculate_kmo(dfx[PAQ_CCW]) # Gives warning\n",
    "print(f\"Bartlett's test of sphericity: Statistic on raw data (n=675) = {statistic_raw:.4f}, p-val = {p_value_raw:.4f}\")\n",
    "print(f\"Bartlett's test of sphericity: Statistic on averaged data (n=27) = {statistic_mean:.4f}, p-val = {p_value_mean:.4f}\")"
   ]
  },
  {
   "cell_type": "code",
   "execution_count": 59,
   "id": "a846e043-9f1a-47dd-93cd-d6222f746d2a",
   "metadata": {},
   "outputs": [
    {
     "name": "stdout",
     "output_type": "stream",
     "text": [
      "  PAQ |   raw  |  mean\n",
      "   pl | 0.8800 | 0.7613\n",
      "   vi | 0.8812 | 0.8988\n",
      "   ev | 0.6466 | 0.6587\n",
      "   ch | 0.8180 | 0.7043\n",
      "   an | 0.8948 | 0.8111\n",
      "   mo | 0.9072 | 0.8000\n",
      "   un | 0.6508 | 0.6739\n",
      "   ca | 0.8531 | 0.7960\n",
      "total | 0.8217 | 0.7665\n"
     ]
    }
   ],
   "source": [
    "print(f'  PAQ |   raw  |  mean')\n",
    "for PAQ, val_raw, val_mean in zip(PAQ_CCW, kmo_per_variable_raw, kmo_per_variable_mean):\n",
    "    print(f'   {PAQ} | {val_raw:.4f} | {val_mean:.4f}')\n",
    "print(f'total | {kmo_total_raw:.4f} | {kmo_total_mean:.4f}')"
   ]
  },
  {
   "cell_type": "code",
   "execution_count": null,
   "id": "9025a954-8c48-4501-8b40-46610792c1c6",
   "metadata": {},
   "outputs": [],
   "source": []
  }
 ],
 "metadata": {
  "kernelspec": {
   "display_name": "Python 3 (ipykernel)",
   "language": "python",
   "name": "python3"
  },
  "language_info": {
   "codemirror_mode": {
    "name": "ipython",
    "version": 3
   },
   "file_extension": ".py",
   "mimetype": "text/x-python",
   "name": "python",
   "nbconvert_exporter": "python",
   "pygments_lexer": "ipython3",
   "version": "3.8.15"
  }
 },
 "nbformat": 4,
 "nbformat_minor": 5
}
